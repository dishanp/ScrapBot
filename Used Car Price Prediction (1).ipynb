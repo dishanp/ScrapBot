{
 "cells": [
  {
   "cell_type": "markdown",
   "id": "300d509d",
   "metadata": {},
   "source": [
    "# Used Car Price Prediction🏎️\n",
    "### By Dishan Purkayastha"
   ]
  },
  {
   "cell_type": "markdown",
   "id": "bfb5ff30",
   "metadata": {},
   "source": [
    "Importing Required Packages"
   ]
  },
  {
   "cell_type": "code",
   "execution_count": 2,
   "id": "740c3ca4",
   "metadata": {},
   "outputs": [],
   "source": [
    "import os\n",
    "import datetime\n",
    "import numpy as np\n",
    "import pandas as pd\n",
    "import matplotlib.pyplot as plt\n",
    "import seaborn as sns\n",
    "from sklearn.model_selection import train_test_split\n",
    "from sklearn.linear_model import LinearRegression\n",
    "from sklearn.ensemble import RandomForestRegressor\n",
    "from sklearn.preprocessing import StandardScaler\n",
    "from sklearn.metrics import r2_score"
   ]
  },
  {
   "cell_type": "markdown",
   "id": "f731cb43",
   "metadata": {},
   "source": [
    "Importing dataset"
   ]
  },
  {
   "cell_type": "code",
   "execution_count": 3,
   "id": "a3227765",
   "metadata": {},
   "outputs": [],
   "source": [
    "data=pd.read_csv('cars.csv')"
   ]
  },
  {
   "cell_type": "markdown",
   "id": "61226bf0",
   "metadata": {},
   "source": [
    "Basic Analysis Of Dataset:"
   ]
  },
  {
   "cell_type": "code",
   "execution_count": 4,
   "id": "7e1a9f07",
   "metadata": {},
   "outputs": [
    {
     "data": {
      "text/html": [
       "<div>\n",
       "<style scoped>\n",
       "    .dataframe tbody tr th:only-of-type {\n",
       "        vertical-align: middle;\n",
       "    }\n",
       "\n",
       "    .dataframe tbody tr th {\n",
       "        vertical-align: top;\n",
       "    }\n",
       "\n",
       "    .dataframe thead th {\n",
       "        text-align: right;\n",
       "    }\n",
       "</style>\n",
       "<table border=\"1\" class=\"dataframe\">\n",
       "  <thead>\n",
       "    <tr style=\"text-align: right;\">\n",
       "      <th></th>\n",
       "      <th>Unnamed: 0</th>\n",
       "      <th>Name</th>\n",
       "      <th>Location</th>\n",
       "      <th>Year</th>\n",
       "      <th>Kilometers_Driven</th>\n",
       "      <th>Fuel_Type</th>\n",
       "      <th>Transmission</th>\n",
       "      <th>Owner_Type</th>\n",
       "      <th>Mileage</th>\n",
       "      <th>Engine</th>\n",
       "      <th>Power</th>\n",
       "      <th>Seats</th>\n",
       "      <th>New_Price</th>\n",
       "      <th>Price</th>\n",
       "    </tr>\n",
       "  </thead>\n",
       "  <tbody>\n",
       "    <tr>\n",
       "      <th>0</th>\n",
       "      <td>0</td>\n",
       "      <td>Maruti Wagon R LXI CNG</td>\n",
       "      <td>Mumbai</td>\n",
       "      <td>2010</td>\n",
       "      <td>72000</td>\n",
       "      <td>CNG</td>\n",
       "      <td>Manual</td>\n",
       "      <td>First</td>\n",
       "      <td>26.6 km/kg</td>\n",
       "      <td>998 CC</td>\n",
       "      <td>58.16 bhp</td>\n",
       "      <td>5.0</td>\n",
       "      <td>NaN</td>\n",
       "      <td>1.75</td>\n",
       "    </tr>\n",
       "    <tr>\n",
       "      <th>1</th>\n",
       "      <td>1</td>\n",
       "      <td>Hyundai Creta 1.6 CRDi SX Option</td>\n",
       "      <td>Pune</td>\n",
       "      <td>2015</td>\n",
       "      <td>41000</td>\n",
       "      <td>Diesel</td>\n",
       "      <td>Manual</td>\n",
       "      <td>First</td>\n",
       "      <td>19.67 kmpl</td>\n",
       "      <td>1582 CC</td>\n",
       "      <td>126.2 bhp</td>\n",
       "      <td>5.0</td>\n",
       "      <td>NaN</td>\n",
       "      <td>12.50</td>\n",
       "    </tr>\n",
       "    <tr>\n",
       "      <th>2</th>\n",
       "      <td>2</td>\n",
       "      <td>Honda Jazz V</td>\n",
       "      <td>Chennai</td>\n",
       "      <td>2011</td>\n",
       "      <td>46000</td>\n",
       "      <td>Petrol</td>\n",
       "      <td>Manual</td>\n",
       "      <td>First</td>\n",
       "      <td>18.2 kmpl</td>\n",
       "      <td>1199 CC</td>\n",
       "      <td>88.7 bhp</td>\n",
       "      <td>5.0</td>\n",
       "      <td>8.61 Lakh</td>\n",
       "      <td>4.50</td>\n",
       "    </tr>\n",
       "  </tbody>\n",
       "</table>\n",
       "</div>"
      ],
      "text/plain": [
       "   Unnamed: 0                              Name Location  Year  \\\n",
       "0           0            Maruti Wagon R LXI CNG   Mumbai  2010   \n",
       "1           1  Hyundai Creta 1.6 CRDi SX Option     Pune  2015   \n",
       "2           2                      Honda Jazz V  Chennai  2011   \n",
       "\n",
       "   Kilometers_Driven Fuel_Type Transmission Owner_Type     Mileage   Engine  \\\n",
       "0              72000       CNG       Manual      First  26.6 km/kg   998 CC   \n",
       "1              41000    Diesel       Manual      First  19.67 kmpl  1582 CC   \n",
       "2              46000    Petrol       Manual      First   18.2 kmpl  1199 CC   \n",
       "\n",
       "       Power  Seats  New_Price  Price  \n",
       "0  58.16 bhp    5.0        NaN   1.75  \n",
       "1  126.2 bhp    5.0        NaN  12.50  \n",
       "2   88.7 bhp    5.0  8.61 Lakh   4.50  "
      ]
     },
     "execution_count": 4,
     "metadata": {},
     "output_type": "execute_result"
    }
   ],
   "source": [
    "data.head(3)"
   ]
  },
  {
   "cell_type": "code",
   "execution_count": 5,
   "id": "91661fdc",
   "metadata": {},
   "outputs": [
    {
     "data": {
      "text/plain": [
       "(6019, 14)"
      ]
     },
     "execution_count": 5,
     "metadata": {},
     "output_type": "execute_result"
    }
   ],
   "source": [
    "data.shape"
   ]
  },
  {
   "cell_type": "code",
   "execution_count": 6,
   "id": "3dd9802e",
   "metadata": {},
   "outputs": [
    {
     "data": {
      "text/plain": [
       "Index(['Unnamed: 0', 'Name', 'Location', 'Year', 'Kilometers_Driven',\n",
       "       'Fuel_Type', 'Transmission', 'Owner_Type', 'Mileage', 'Engine', 'Power',\n",
       "       'Seats', 'New_Price', 'Price'],\n",
       "      dtype='object')"
      ]
     },
     "execution_count": 6,
     "metadata": {},
     "output_type": "execute_result"
    }
   ],
   "source": [
    "data.columns"
   ]
  },
  {
   "cell_type": "code",
   "execution_count": 7,
   "id": "abfd7f51",
   "metadata": {},
   "outputs": [
    {
     "data": {
      "text/plain": [
       "<bound method DataFrame.info of       Unnamed: 0                              Name    Location  Year  \\\n",
       "0              0            Maruti Wagon R LXI CNG      Mumbai  2010   \n",
       "1              1  Hyundai Creta 1.6 CRDi SX Option        Pune  2015   \n",
       "2              2                      Honda Jazz V     Chennai  2011   \n",
       "3              3                 Maruti Ertiga VDI     Chennai  2012   \n",
       "4              4   Audi A4 New 2.0 TDI Multitronic  Coimbatore  2013   \n",
       "...          ...                               ...         ...   ...   \n",
       "6014        6014                  Maruti Swift VDI       Delhi  2014   \n",
       "6015        6015          Hyundai Xcent 1.1 CRDi S      Jaipur  2015   \n",
       "6016        6016             Mahindra Xylo D4 BSIV      Jaipur  2012   \n",
       "6017        6017                Maruti Wagon R VXI     Kolkata  2013   \n",
       "6018        6018             Chevrolet Beat Diesel   Hyderabad  2011   \n",
       "\n",
       "      Kilometers_Driven Fuel_Type Transmission Owner_Type     Mileage  \\\n",
       "0                 72000       CNG       Manual      First  26.6 km/kg   \n",
       "1                 41000    Diesel       Manual      First  19.67 kmpl   \n",
       "2                 46000    Petrol       Manual      First   18.2 kmpl   \n",
       "3                 87000    Diesel       Manual      First  20.77 kmpl   \n",
       "4                 40670    Diesel    Automatic     Second   15.2 kmpl   \n",
       "...                 ...       ...          ...        ...         ...   \n",
       "6014              27365    Diesel       Manual      First   28.4 kmpl   \n",
       "6015             100000    Diesel       Manual      First   24.4 kmpl   \n",
       "6016              55000    Diesel       Manual     Second   14.0 kmpl   \n",
       "6017              46000    Petrol       Manual      First   18.9 kmpl   \n",
       "6018              47000    Diesel       Manual      First  25.44 kmpl   \n",
       "\n",
       "       Engine      Power  Seats  New_Price  Price  \n",
       "0      998 CC  58.16 bhp    5.0        NaN   1.75  \n",
       "1     1582 CC  126.2 bhp    5.0        NaN  12.50  \n",
       "2     1199 CC   88.7 bhp    5.0  8.61 Lakh   4.50  \n",
       "3     1248 CC  88.76 bhp    7.0        NaN   6.00  \n",
       "4     1968 CC  140.8 bhp    5.0        NaN  17.74  \n",
       "...       ...        ...    ...        ...    ...  \n",
       "6014  1248 CC     74 bhp    5.0  7.88 Lakh   4.75  \n",
       "6015  1120 CC     71 bhp    5.0        NaN   4.00  \n",
       "6016  2498 CC    112 bhp    8.0        NaN   2.90  \n",
       "6017   998 CC   67.1 bhp    5.0        NaN   2.65  \n",
       "6018   936 CC   57.6 bhp    5.0        NaN   2.50  \n",
       "\n",
       "[6019 rows x 14 columns]>"
      ]
     },
     "execution_count": 7,
     "metadata": {},
     "output_type": "execute_result"
    }
   ],
   "source": [
    "data.info"
   ]
  },
  {
   "cell_type": "markdown",
   "id": "d85bfeca",
   "metadata": {},
   "source": [
    "##### Dataset Analysis On Various Parameters:"
   ]
  },
  {
   "cell_type": "code",
   "execution_count": 8,
   "id": "a9251d5a",
   "metadata": {},
   "outputs": [
    {
     "data": {
      "image/png": "[encoded data removed]",
      "text/plain": [
       "<Figure size 720x720 with 1 Axes>"
      ]
     },
     "metadata": {},
     "output_type": "display_data"
    }
   ],
   "source": [
    "loc = data.groupby('Location')[['Unnamed: 0']].count()\n",
    "loc =loc.sort_values('Unnamed: 0', ascending=False).reset_index()\n",
    "loc.rename(columns = {'Unnamed: 0':'Cars'},inplace=True)\n",
    "loc\n",
    "\n",
    "labels = list(loc.Location)\n",
    "plt.figure(figsize=(10,10))\n",
    "plt.title(\"Location Wise Distribution\",fontweight='bold',fontsize=30)\n",
    "plt.tick_params(labelsize=40)\n",
    "plt.pie(loc.Cars,labels=labels,textprops={'fontsize': 13});\n",
    "plt.savefig('loaction.png', dpi=300)"
   ]
  },
  {
   "cell_type": "code",
   "execution_count": 9,
   "id": "a1f6b30c",
   "metadata": {},
   "outputs": [
    {
     "data": {
      "image/png": "[encoded data removed]",
      "text/plain": [
       "<Figure size 360x360 with 1 Axes>"
      ]
     },
     "metadata": {},
     "output_type": "display_data"
    }
   ],
   "source": [
    "loc = data.groupby('Fuel_Type')[['Unnamed: 0']].count()\n",
    "loc =loc.sort_values('Unnamed: 0', ascending=False).reset_index()\n",
    "loc.rename(columns = {'Unnamed: 0':'Cars'},inplace=True)\n",
    "loc\n",
    "\n",
    "labels = list(loc.Fuel_Type)\n",
    "plt.figure(figsize=(5,5))\n",
    "plt.title(\"Fuel Type Wise Distribution\",fontweight='bold',fontsize=30)\n",
    "plt.tick_params(labelsize=40)\n",
    "plt.pie(loc.Cars,labels=labels,textprops={'fontsize': 13});\n",
    "plt.savefig('fueltype.png', dpi=300)"
   ]
  },
  {
   "cell_type": "code",
   "execution_count": 10,
   "id": "ed722ff1",
   "metadata": {},
   "outputs": [
    {
     "data": {
      "text/html": [
       "<div>\n",
       "<style scoped>\n",
       "    .dataframe tbody tr th:only-of-type {\n",
       "        vertical-align: middle;\n",
       "    }\n",
       "\n",
       "    .dataframe tbody tr th {\n",
       "        vertical-align: top;\n",
       "    }\n",
       "\n",
       "    .dataframe thead th {\n",
       "        text-align: right;\n",
       "    }\n",
       "</style>\n",
       "<table border=\"1\" class=\"dataframe\">\n",
       "  <thead>\n",
       "    <tr style=\"text-align: right;\">\n",
       "      <th></th>\n",
       "      <th>Year</th>\n",
       "      <th>Cars</th>\n",
       "    </tr>\n",
       "  </thead>\n",
       "  <tbody>\n",
       "    <tr>\n",
       "      <th>0</th>\n",
       "      <td>2014</td>\n",
       "      <td>797</td>\n",
       "    </tr>\n",
       "    <tr>\n",
       "      <th>1</th>\n",
       "      <td>2015</td>\n",
       "      <td>744</td>\n",
       "    </tr>\n",
       "    <tr>\n",
       "      <th>2</th>\n",
       "      <td>2016</td>\n",
       "      <td>741</td>\n",
       "    </tr>\n",
       "    <tr>\n",
       "      <th>3</th>\n",
       "      <td>2013</td>\n",
       "      <td>649</td>\n",
       "    </tr>\n",
       "    <tr>\n",
       "      <th>4</th>\n",
       "      <td>2017</td>\n",
       "      <td>587</td>\n",
       "    </tr>\n",
       "    <tr>\n",
       "      <th>5</th>\n",
       "      <td>2012</td>\n",
       "      <td>580</td>\n",
       "    </tr>\n",
       "    <tr>\n",
       "      <th>6</th>\n",
       "      <td>2011</td>\n",
       "      <td>466</td>\n",
       "    </tr>\n",
       "    <tr>\n",
       "      <th>7</th>\n",
       "      <td>2010</td>\n",
       "      <td>342</td>\n",
       "    </tr>\n",
       "    <tr>\n",
       "      <th>8</th>\n",
       "      <td>2018</td>\n",
       "      <td>298</td>\n",
       "    </tr>\n",
       "    <tr>\n",
       "      <th>9</th>\n",
       "      <td>2009</td>\n",
       "      <td>198</td>\n",
       "    </tr>\n",
       "    <tr>\n",
       "      <th>10</th>\n",
       "      <td>2008</td>\n",
       "      <td>174</td>\n",
       "    </tr>\n",
       "    <tr>\n",
       "      <th>11</th>\n",
       "      <td>2007</td>\n",
       "      <td>125</td>\n",
       "    </tr>\n",
       "    <tr>\n",
       "      <th>12</th>\n",
       "      <td>2019</td>\n",
       "      <td>102</td>\n",
       "    </tr>\n",
       "    <tr>\n",
       "      <th>13</th>\n",
       "      <td>2006</td>\n",
       "      <td>78</td>\n",
       "    </tr>\n",
       "    <tr>\n",
       "      <th>14</th>\n",
       "      <td>2005</td>\n",
       "      <td>57</td>\n",
       "    </tr>\n",
       "    <tr>\n",
       "      <th>15</th>\n",
       "      <td>2004</td>\n",
       "      <td>31</td>\n",
       "    </tr>\n",
       "    <tr>\n",
       "      <th>16</th>\n",
       "      <td>2003</td>\n",
       "      <td>17</td>\n",
       "    </tr>\n",
       "    <tr>\n",
       "      <th>17</th>\n",
       "      <td>2002</td>\n",
       "      <td>15</td>\n",
       "    </tr>\n",
       "    <tr>\n",
       "      <th>18</th>\n",
       "      <td>2001</td>\n",
       "      <td>8</td>\n",
       "    </tr>\n",
       "    <tr>\n",
       "      <th>19</th>\n",
       "      <td>2000</td>\n",
       "      <td>4</td>\n",
       "    </tr>\n",
       "    <tr>\n",
       "      <th>20</th>\n",
       "      <td>1998</td>\n",
       "      <td>4</td>\n",
       "    </tr>\n",
       "    <tr>\n",
       "      <th>21</th>\n",
       "      <td>1999</td>\n",
       "      <td>2</td>\n",
       "    </tr>\n",
       "  </tbody>\n",
       "</table>\n",
       "</div>"
      ],
      "text/plain": [
       "    Year  Cars\n",
       "0   2014   797\n",
       "1   2015   744\n",
       "2   2016   741\n",
       "3   2013   649\n",
       "4   2017   587\n",
       "5   2012   580\n",
       "6   2011   466\n",
       "7   2010   342\n",
       "8   2018   298\n",
       "9   2009   198\n",
       "10  2008   174\n",
       "11  2007   125\n",
       "12  2019   102\n",
       "13  2006    78\n",
       "14  2005    57\n",
       "15  2004    31\n",
       "16  2003    17\n",
       "17  2002    15\n",
       "18  2001     8\n",
       "19  2000     4\n",
       "20  1998     4\n",
       "21  1999     2"
      ]
     },
     "execution_count": 10,
     "metadata": {},
     "output_type": "execute_result"
    }
   ],
   "source": [
    "loc = data.groupby('Year')[['Unnamed: 0']].count()\n",
    "loc =loc.sort_values('Unnamed: 0', ascending=False).reset_index()\n",
    "loc.rename(columns = {'Unnamed: 0':'Cars'},inplace=True)\n",
    "loc"
   ]
  },
  {
   "cell_type": "code",
   "execution_count": 11,
   "id": "3f393540",
   "metadata": {},
   "outputs": [
    {
     "data": {
      "image/png": "[encoded data removed]",
      "text/plain": [
       "<Figure size 1440x720 with 1 Axes>"
      ]
     },
     "metadata": {
      "needs_background": "light"
     },
     "output_type": "display_data"
    }
   ],
   "source": [
    "plt.figure(figsize=(20,10))\n",
    "plt.xlabel('Year')\n",
    "plt.ylabel('Cars')\n",
    "plt.title('Year wise distribution');\n",
    "plt.bar(loc.Year,loc.Cars, color='#bf88be');\n",
    "plt.savefig('yearwise.png', dpi=300)"
   ]
  },
  {
   "cell_type": "code",
   "execution_count": 12,
   "id": "c32079c8",
   "metadata": {},
   "outputs": [
    {
     "data": {
      "text/plain": [
       "Index(['Unnamed: 0', 'Name', 'Location', 'Year', 'Kilometers_Driven',\n",
       "       'Fuel_Type', 'Transmission', 'Owner_Type', 'Mileage', 'Engine', 'Power',\n",
       "       'Seats', 'New_Price', 'Price'],\n",
       "      dtype='object')"
      ]
     },
     "execution_count": 12,
     "metadata": {},
     "output_type": "execute_result"
    }
   ],
   "source": [
    "data.columns"
   ]
  },
  {
   "cell_type": "code",
   "execution_count": 13,
   "id": "ca8d2ba6",
   "metadata": {},
   "outputs": [
    {
     "data": {
      "text/plain": [
       "array(['Manual', 'Automatic'], dtype=object)"
      ]
     },
     "execution_count": 13,
     "metadata": {},
     "output_type": "execute_result"
    }
   ],
   "source": [
    "data.Transmission.unique()"
   ]
  },
  {
   "cell_type": "code",
   "execution_count": 44,
   "id": "3d2f14d6",
   "metadata": {},
   "outputs": [
    {
     "data": {
      "image/png": "[encoded data removed]",
      "text/plain": [
       "<Figure size 360x360 with 1 Axes>"
      ]
     },
     "metadata": {},
     "output_type": "display_data"
    }
   ],
   "source": [
    "loc = data.groupby('Transmission')[['Unnamed: 0']].count()\n",
    "loc =loc.sort_values('Unnamed: 0', ascending=False).reset_index()\n",
    "loc.rename(columns = {'Unnamed: 0':'Cars'},inplace=True)\n",
    "loc\n",
    "\n",
    "labels = list(loc.Transmission)\n",
    "plt.figure(figsize=(5,5))\n",
    "plt.title(\"Transimssion Type Wise Distribution\",fontweight='bold',fontsize=30)\n",
    "plt.tick_params(labelsize=40)\n",
    "plt.pie(loc.Cars,labels=labels,textprops={'fontsize': 13});\n",
    "plt.savefig('manual.png', dpi=300)"
   ]
  },
  {
   "cell_type": "code",
   "execution_count": 43,
   "id": "9c37a202",
   "metadata": {},
   "outputs": [
    {
     "data": {
      "image/png": "[encoded data removed]",
      "text/plain": [
       "<Figure size 360x360 with 1 Axes>"
      ]
     },
     "metadata": {},
     "output_type": "display_data"
    }
   ],
   "source": [
    "loc = data.groupby('Owner_Type')[['Unnamed: 0']].count()\n",
    "loc =loc.sort_values('Unnamed: 0', ascending=False).reset_index()\n",
    "loc.rename(columns = {'Unnamed: 0':'Cars'},inplace=True)\n",
    "loc\n",
    "\n",
    "labels = list(loc.Owner_Type)\n",
    "plt.figure(figsize=(5,5))\n",
    "plt.title(\"Owner Type Wise Distribution\",fontweight='bold',fontsize=30)\n",
    "plt.tick_params(labelsize=40)\n",
    "plt.pie(loc.Cars,labels=labels,textprops={'fontsize': 13});\n",
    "plt.savefig('trans.png', dpi=300)"
   ]
  },
  {
   "cell_type": "code",
   "execution_count": 17,
   "id": "78e742c4",
   "metadata": {},
   "outputs": [],
   "source": [
    "X_train, X_test, y_train, y_test = train_test_split(data.iloc[:, :-1], \n",
    "                                                    data.iloc[:, -1], \n",
    "                                                    test_size = 0.3, \n",
    "                                                    random_state = 42)"
   ]
  },
  {
   "cell_type": "code",
   "execution_count": 18,
   "id": "6fc77de4",
   "metadata": {},
   "outputs": [
    {
     "data": {
      "text/plain": [
       "(4213, 13)"
      ]
     },
     "execution_count": 18,
     "metadata": {},
     "output_type": "execute_result"
    }
   ],
   "source": [
    "X_train.shape"
   ]
  },
  {
   "cell_type": "markdown",
   "id": "f9c2e5b5",
   "metadata": {},
   "source": [
    "### Refining Dataset"
   ]
  },
  {
   "cell_type": "code",
   "execution_count": 19,
   "id": "4a1a42c0",
   "metadata": {},
   "outputs": [],
   "source": [
    "#Removing the first colum,as it is not of any use\n",
    "X_train = X_train.iloc[:, 1:]\n",
    "X_test = X_test.iloc[:, 1:]"
   ]
  },
  {
   "cell_type": "code",
   "execution_count": 20,
   "id": "8e88791d",
   "metadata": {},
   "outputs": [
    {
     "data": {
      "text/plain": [
       "Mahindra XUV500 W8 2WD           35\n",
       "Maruti Swift VDI                 31\n",
       "Maruti Ritz VDi                  26\n",
       "Hyundai i10 Sportz               25\n",
       "Maruti Swift Dzire VDI           24\n",
       "                                 ..\n",
       "Toyota Corolla Executive (HE)     1\n",
       "Tata Manza Aura Safire            1\n",
       "Maruti Ciaz Alpha                 1\n",
       "Force One LX 4x4                  1\n",
       "Fiat Grande Punto 1.2 Dynamic     1\n",
       "Name: Name, Length: 1592, dtype: int64"
      ]
     },
     "execution_count": 20,
     "metadata": {},
     "output_type": "execute_result"
    }
   ],
   "source": [
    "X_train['Name'].value_counts()"
   ]
  },
  {
   "cell_type": "markdown",
   "id": "e944f474",
   "metadata": {},
   "source": [
    "#### Deriving Manufacturer name from each car name,since it is an important paramter to determine re-sale value\n"
   ]
  },
  {
   "cell_type": "code",
   "execution_count": 21,
   "id": "b295ecc5",
   "metadata": {},
   "outputs": [],
   "source": [
    "make_train = X_train[\"Name\"].str.split(\" \", expand = True)\n",
    "make_test = X_test[\"Name\"].str.split(\" \", expand = True)\n",
    "X_train[\"Manufacturer\"] = make_train[0]\n",
    "X_test[\"Manufacturer\"] = make_test[0]"
   ]
  },
  {
   "cell_type": "code",
   "execution_count": 54,
   "id": "39229187",
   "metadata": {},
   "outputs": [
    {
     "data": {
      "text/html": [
       "<div>\n",
       "<style scoped>\n",
       "    .dataframe tbody tr th:only-of-type {\n",
       "        vertical-align: middle;\n",
       "    }\n",
       "\n",
       "    .dataframe tbody tr th {\n",
       "        vertical-align: top;\n",
       "    }\n",
       "\n",
       "    .dataframe thead th {\n",
       "        text-align: right;\n",
       "    }\n",
       "</style>\n",
       "<table border=\"1\" class=\"dataframe\">\n",
       "  <thead>\n",
       "    <tr style=\"text-align: right;\">\n",
       "      <th></th>\n",
       "      <th>Name</th>\n",
       "      <th>Location</th>\n",
       "      <th>Year</th>\n",
       "      <th>Kilometers_Driven</th>\n",
       "      <th>Fuel_Type</th>\n",
       "      <th>Transmission</th>\n",
       "      <th>Owner_Type</th>\n",
       "      <th>Mileage</th>\n",
       "      <th>Engine</th>\n",
       "      <th>Power</th>\n",
       "      <th>Seats</th>\n",
       "      <th>New_Price</th>\n",
       "      <th>Manufacturer</th>\n",
       "    </tr>\n",
       "  </thead>\n",
       "  <tbody>\n",
       "    <tr>\n",
       "      <th>4201</th>\n",
       "      <td>Volkswagen Polo Diesel Trendline 1.2L</td>\n",
       "      <td>Jaipur</td>\n",
       "      <td>2011</td>\n",
       "      <td>77000</td>\n",
       "      <td>Diesel</td>\n",
       "      <td>Manual</td>\n",
       "      <td>First</td>\n",
       "      <td>22.07 kmpl</td>\n",
       "      <td>1199 CC</td>\n",
       "      <td>73.9 bhp</td>\n",
       "      <td>5.0</td>\n",
       "      <td>NaN</td>\n",
       "      <td>Volkswagen</td>\n",
       "    </tr>\n",
       "    <tr>\n",
       "      <th>4383</th>\n",
       "      <td>Hyundai i10 Sportz</td>\n",
       "      <td>Hyderabad</td>\n",
       "      <td>2016</td>\n",
       "      <td>19947</td>\n",
       "      <td>Petrol</td>\n",
       "      <td>Manual</td>\n",
       "      <td>First</td>\n",
       "      <td>20.36 kmpl</td>\n",
       "      <td>1197 CC</td>\n",
       "      <td>78.9 bhp</td>\n",
       "      <td>5.0</td>\n",
       "      <td>NaN</td>\n",
       "      <td>Hyundai</td>\n",
       "    </tr>\n",
       "    <tr>\n",
       "      <th>1779</th>\n",
       "      <td>Mahindra XUV500 W8 2WD</td>\n",
       "      <td>Kochi</td>\n",
       "      <td>2014</td>\n",
       "      <td>70963</td>\n",
       "      <td>Diesel</td>\n",
       "      <td>Manual</td>\n",
       "      <td>First</td>\n",
       "      <td>15.1 kmpl</td>\n",
       "      <td>2179 CC</td>\n",
       "      <td>140 bhp</td>\n",
       "      <td>7.0</td>\n",
       "      <td>NaN</td>\n",
       "      <td>Mahindra</td>\n",
       "    </tr>\n",
       "    <tr>\n",
       "      <th>4020</th>\n",
       "      <td>Maruti Swift VDI BSIV</td>\n",
       "      <td>Kolkata</td>\n",
       "      <td>2013</td>\n",
       "      <td>115195</td>\n",
       "      <td>Diesel</td>\n",
       "      <td>Manual</td>\n",
       "      <td>First</td>\n",
       "      <td>25.2 kmpl</td>\n",
       "      <td>1248 CC</td>\n",
       "      <td>74 bhp</td>\n",
       "      <td>5.0</td>\n",
       "      <td>NaN</td>\n",
       "      <td>Maruti</td>\n",
       "    </tr>\n",
       "    <tr>\n",
       "      <th>3248</th>\n",
       "      <td>Volkswagen Polo Petrol Trendline 1.2L</td>\n",
       "      <td>Kochi</td>\n",
       "      <td>2011</td>\n",
       "      <td>58752</td>\n",
       "      <td>Petrol</td>\n",
       "      <td>Manual</td>\n",
       "      <td>First</td>\n",
       "      <td>16.47 kmpl</td>\n",
       "      <td>1198 CC</td>\n",
       "      <td>73.9 bhp</td>\n",
       "      <td>5.0</td>\n",
       "      <td>NaN</td>\n",
       "      <td>Volkswagen</td>\n",
       "    </tr>\n",
       "  </tbody>\n",
       "</table>\n",
       "</div>"
      ],
      "text/plain": [
       "                                       Name   Location  Year  \\\n",
       "4201  Volkswagen Polo Diesel Trendline 1.2L     Jaipur  2011   \n",
       "4383                     Hyundai i10 Sportz  Hyderabad  2016   \n",
       "1779                 Mahindra XUV500 W8 2WD      Kochi  2014   \n",
       "4020                  Maruti Swift VDI BSIV    Kolkata  2013   \n",
       "3248  Volkswagen Polo Petrol Trendline 1.2L      Kochi  2011   \n",
       "\n",
       "      Kilometers_Driven Fuel_Type Transmission Owner_Type     Mileage  \\\n",
       "4201              77000    Diesel       Manual      First  22.07 kmpl   \n",
       "4383              19947    Petrol       Manual      First  20.36 kmpl   \n",
       "1779              70963    Diesel       Manual      First   15.1 kmpl   \n",
       "4020             115195    Diesel       Manual      First   25.2 kmpl   \n",
       "3248              58752    Petrol       Manual      First  16.47 kmpl   \n",
       "\n",
       "       Engine     Power  Seats New_Price Manufacturer  \n",
       "4201  1199 CC  73.9 bhp    5.0       NaN   Volkswagen  \n",
       "4383  1197 CC  78.9 bhp    5.0       NaN      Hyundai  \n",
       "1779  2179 CC   140 bhp    7.0       NaN     Mahindra  \n",
       "4020  1248 CC    74 bhp    5.0       NaN       Maruti  \n",
       "3248  1198 CC  73.9 bhp    5.0       NaN   Volkswagen  "
      ]
     },
     "execution_count": 54,
     "metadata": {},
     "output_type": "execute_result"
    }
   ],
   "source": [
    "X_train.head()"
   ]
  },
  {
   "cell_type": "code",
   "execution_count": 22,
   "id": "c1bd5bf1",
   "metadata": {},
   "outputs": [
    {
     "data": {
      "text/plain": [
       "Text(0, 0.5, 'Count of cars')"
      ]
     },
     "execution_count": 22,
     "metadata": {},
     "output_type": "execute_result"
    },
    {
     "data": {
      "image/png": "[encoded data removed]",
      "text/plain": [
       "<Figure size 1440x720 with 1 Axes>"
      ]
     },
     "metadata": {
      "needs_background": "light"
     },
     "output_type": "display_data"
    }
   ],
   "source": [
    "plt.figure(figsize = (20, 10))\n",
    "plot = sns.countplot(x = 'Manufacturer', data = X_train)\n",
    "plt.xticks(rotation = 90)\n",
    "for p in plot.patches:\n",
    "    plot.annotate(p.get_height(), \n",
    "                        (p.get_x() + p.get_width() / 2.0, \n",
    "                         p.get_height()), \n",
    "                        ha = 'center', \n",
    "                        va = 'center', \n",
    "                        xytext = (0, 5),\n",
    "                        textcoords = 'offset points')\n",
    "\n",
    "plt.title(\"Distribution based on manufacturers\")\n",
    "plt.xlabel(\"Manufacturer\")\n",
    "plt.ylabel(\"Count of cars\")"
   ]
  },
  {
   "cell_type": "code",
   "execution_count": 23,
   "id": "f5596178",
   "metadata": {},
   "outputs": [],
   "source": [
    "#Dropping Name & location as parameters as they are not determinants of price\n",
    "X_train.drop(\"Name\", axis = 1, inplace = True)\n",
    "X_test.drop(\"Name\", axis = 1, inplace = True)\n",
    "X_train.drop(\"Location\", axis = 1, inplace = True)\n",
    "X_test.drop(\"Location\", axis = 1, inplace = True)"
   ]
  },
  {
   "cell_type": "code",
   "execution_count": 24,
   "id": "3a7740ec",
   "metadata": {},
   "outputs": [],
   "source": [
    "#Deriving & Adding Car Age(In Years) To The Datasets\n",
    "curr_time = datetime.datetime.now()\n",
    "X_train['Year'] = X_train['Year'].apply(lambda x : curr_time.year - x)\n",
    "X_test['Year'] = X_test['Year'].apply(lambda x : curr_time.year - x)"
   ]
  },
  {
   "cell_type": "code",
   "execution_count": 25,
   "id": "db1e55d0",
   "metadata": {},
   "outputs": [],
   "source": [
    "#Extracting numeric value of mileage\n",
    "mileage_train = X_train[\"Mileage\"].str.split(\" \", expand = True)\n",
    "mileage_test = X_test[\"Mileage\"].str.split(\" \", expand = True)\n",
    "\n",
    "X_train[\"Mileage\"] = pd.to_numeric(mileage_train[0], errors = 'coerce')\n",
    "X_test[\"Mileage\"] = pd.to_numeric(mileage_test[0], errors = 'coerce')"
   ]
  },
  {
   "cell_type": "code",
   "execution_count": 26,
   "id": "74c7c8e1",
   "metadata": {},
   "outputs": [
    {
     "name": "stdout",
     "output_type": "stream",
     "text": [
      "1\n",
      "1\n"
     ]
    }
   ],
   "source": [
    "#Let's check for missing values.\n",
    "\n",
    "print(sum(X_train[\"Mileage\"].isnull()))\n",
    "print(sum(X_test[\"Mileage\"].isnull()))"
   ]
  },
  {
   "cell_type": "code",
   "execution_count": 27,
   "id": "4a4076a8",
   "metadata": {},
   "outputs": [],
   "source": [
    "#Replacing Missing Values With Mean Value\n",
    "X_train[\"Mileage\"].fillna(X_train[\"Mileage\"].astype(\"float64\").mean(), inplace = True)\n",
    "X_test[\"Mileage\"].fillna(X_train[\"Mileage\"].astype(\"float64\").mean(), inplace = True)"
   ]
  },
  {
   "cell_type": "code",
   "execution_count": 28,
   "id": "9e8c087a",
   "metadata": {},
   "outputs": [],
   "source": [
    "#Extracting numeric value of engine capacity & power\n",
    "cc_train = X_train[\"Engine\"].str.split(\" \", expand = True)\n",
    "cc_test = X_test[\"Engine\"].str.split(\" \", expand = True)\n",
    "\n",
    "bhp_train = X_train[\"Power\"].str.split(\" \", expand = True)\n",
    "bhp_test = X_test[\"Power\"].str.split(\" \", expand = True)"
   ]
  },
  {
   "cell_type": "code",
   "execution_count": 29,
   "id": "4177304a",
   "metadata": {},
   "outputs": [],
   "source": [
    "X_train[\"Engine\"] = pd.to_numeric(cc_train[0], errors = 'coerce')\n",
    "X_test[\"Engine\"] = pd.to_numeric(cc_test[0], errors = 'coerce')\n",
    "\n",
    "X_train[\"Power\"] = pd.to_numeric(bhp_train[0], errors = 'coerce')\n",
    "X_test[\"Power\"] = pd.to_numeric(bhp_test[0], errors = 'coerce')"
   ]
  },
  {
   "cell_type": "code",
   "execution_count": 30,
   "id": "a1f3f3b6",
   "metadata": {},
   "outputs": [],
   "source": [
    "#Replacing All Missing Values With Mean Value\n",
    "\n",
    "X_train[\"Engine\"].fillna(X_train[\"Engine\"].astype(\"float64\").mean(), inplace = True)\n",
    "X_test[\"Engine\"].fillna(X_train[\"Engine\"].astype(\"float64\").mean(), inplace = True)\n",
    "\n",
    "X_train[\"Power\"].fillna(X_train[\"Power\"].astype(\"float64\").mean(), inplace = True)\n",
    "X_test[\"Power\"].fillna(X_train[\"Power\"].astype(\"float64\").mean(), inplace = True)\n",
    "\n",
    "X_train[\"Seats\"].fillna(X_train[\"Seats\"].astype(\"float64\").mean(), inplace = True)\n",
    "X_test[\"Seats\"].fillna(X_train[\"Seats\"].astype(\"float64\").mean(), inplace = True)"
   ]
  },
  {
   "cell_type": "code",
   "execution_count": 31,
   "id": "644ffb85",
   "metadata": {},
   "outputs": [],
   "source": [
    "#Dropping New_price as a parameter since most values are missing from the dataset\n",
    "X_train.drop([\"New_Price\"], axis = 1, inplace = True)\n",
    "X_test.drop([\"New_Price\"], axis = 1, inplace = True)"
   ]
  },
  {
   "cell_type": "markdown",
   "id": "43fe1b82",
   "metadata": {},
   "source": [
    "Data Processing"
   ]
  },
  {
   "cell_type": "code",
   "execution_count": 32,
   "id": "bb4b9281",
   "metadata": {},
   "outputs": [],
   "source": [
    "#Creating Dummy Columns for categorical columns before training.\n",
    "X_train = pd.get_dummies(X_train,\n",
    "                         columns = [\"Manufacturer\", \"Fuel_Type\", \"Transmission\", \"Owner_Type\"],\n",
    "                         drop_first = True)\n",
    "\n",
    "X_test = pd.get_dummies(X_test,\n",
    "                         columns = [\"Manufacturer\", \"Fuel_Type\", \"Transmission\", \"Owner_Type\"],\n",
    "                         drop_first = True)"
   ]
  },
  {
   "cell_type": "code",
   "execution_count": 34,
   "id": "8488fdb4",
   "metadata": {},
   "outputs": [],
   "source": [
    "#Replacing Missing Columns With Zeroes\n",
    "missing_cols = set(X_train.columns) - set(X_test.columns)\n",
    "for col in missing_cols:\n",
    "    X_test[col] = 0\n",
    "X_test = X_test[X_train.columns]"
   ]
  },
  {
   "cell_type": "code",
   "execution_count": 35,
   "id": "32e6ece3",
   "metadata": {},
   "outputs": [],
   "source": [
    "#Scaling The Values Before Training\n",
    "standardScaler = StandardScaler()\n",
    "standardScaler.fit(X_train)\n",
    "X_train = standardScaler.transform(X_train)\n",
    "X_test = standardScaler.transform(X_test)"
   ]
  },
  {
   "cell_type": "markdown",
   "id": "3305198e",
   "metadata": {},
   "source": [
    "### Training and Prediction:"
   ]
  },
  {
   "cell_type": "markdown",
   "id": "7add8a7f",
   "metadata": {},
   "source": [
    "Linear Regression Model:"
   ]
  },
  {
   "cell_type": "code",
   "execution_count": 36,
   "id": "6a0ebca9",
   "metadata": {},
   "outputs": [
    {
     "data": {
      "text/plain": [
       "0.7008908549416726"
      ]
     },
     "execution_count": 36,
     "metadata": {},
     "output_type": "execute_result"
    }
   ],
   "source": [
    "linearRegression = LinearRegression()\n",
    "linearRegression.fit(X_train, y_train)\n",
    "y_pred = linearRegression.predict(X_test)\n",
    "r2_score(y_test, y_pred)"
   ]
  },
  {
   "cell_type": "markdown",
   "id": "ef5f6740",
   "metadata": {},
   "source": [
    "Random Forest Model"
   ]
  },
  {
   "cell_type": "code",
   "execution_count": 42,
   "id": "224d7260",
   "metadata": {},
   "outputs": [
    {
     "data": {
      "text/plain": [
       "0.8863611922525705"
      ]
     },
     "execution_count": 42,
     "metadata": {},
     "output_type": "execute_result"
    }
   ],
   "source": [
    "rf = RandomForestRegressor(n_estimators = 100)\n",
    "rf.fit(X_train, y_train)\n",
    "y_pred = rf.predict(X_test)\n",
    "r2_score(y_test, y_pred)"
   ]
  },
  {
   "cell_type": "markdown",
   "id": "552bdb03",
   "metadata": {},
   "source": [
    "##### Clearly,the Random Forest model performed better with an R2 score of 0.88"
   ]
  }
 ],
 "metadata": {
  "kernelspec": {
   "display_name": "Python 3",
   "language": "python",
   "name": "python3"
  },
  "language_info": {
   "codemirror_mode": {
    "name": "ipython",
    "version": 3
   },
   "file_extension": ".py",
   "mimetype": "text/x-python",
   "name": "python",
   "nbconvert_exporter": "python",
   "pygments_lexer": "ipython3",
   "version": "3.9.5"
  }
 },
 "nbformat": 4,
 "nbformat_minor": 5
}
